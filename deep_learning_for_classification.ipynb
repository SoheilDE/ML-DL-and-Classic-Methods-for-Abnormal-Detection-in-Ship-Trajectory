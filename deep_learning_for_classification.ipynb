{
 "cells": [
  {
   "cell_type": "code",
   "execution_count": 1,
   "id": "7701401b",
   "metadata": {},
   "outputs": [],
   "source": [
    "import pandas as pd\n",
    "import numpy as np\n",
    "from sklearn.cluster import KMeans"
   ]
  },
  {
   "cell_type": "code",
   "execution_count": 2,
   "id": "5dfc6cae",
   "metadata": {},
   "outputs": [],
   "source": [
    "df = pd.read_csv('combined_traj_data.csv')"
   ]
  },
  {
   "cell_type": "code",
   "execution_count": 3,
   "id": "229cdaf3",
   "metadata": {},
   "outputs": [],
   "source": [
    "# Feature engineering\n",
    "df['speed'] = np.sqrt(df['vx']**2 + df['vy']**2)\n",
    "df['heading'] = np.arctan2(df['vy'], df['vx'])\n",
    "df['accel'] = df['speed'].diff() / df['t'].diff()\n",
    "df['turn_rate'] = df['heading'].diff() / df['t'].diff()\n",
    "df['distance'] = np.sqrt(df['x'].diff()**2 + df['y'].diff()**2)\n",
    "\n",
    "features = df[['speed', 'heading', 'accel', 'turn_rate', 'distance']]"
   ]
  },
  {
   "cell_type": "code",
   "execution_count": null,
   "id": "417a9d39",
   "metadata": {},
   "outputs": [],
   "source": [
    "features['accel'].fillna(0, inplace=True)\n",
    "features['turn_rate'].fillna(0, inplace=True)\n",
    "features['distance'].fillna(0, inplace=True)"
   ]
  },
  {
   "cell_type": "code",
   "execution_count": 5,
   "id": "e61e0c4d",
   "metadata": {},
   "outputs": [
    {
     "data": {
      "text/html": [
       "<div>\n",
       "<style scoped>\n",
       "    .dataframe tbody tr th:only-of-type {\n",
       "        vertical-align: middle;\n",
       "    }\n",
       "\n",
       "    .dataframe tbody tr th {\n",
       "        vertical-align: top;\n",
       "    }\n",
       "\n",
       "    .dataframe thead th {\n",
       "        text-align: right;\n",
       "    }\n",
       "</style>\n",
       "<table border=\"1\" class=\"dataframe\">\n",
       "  <thead>\n",
       "    <tr style=\"text-align: right;\">\n",
       "      <th></th>\n",
       "      <th>speed</th>\n",
       "      <th>heading</th>\n",
       "      <th>accel</th>\n",
       "      <th>turn_rate</th>\n",
       "      <th>distance</th>\n",
       "    </tr>\n",
       "  </thead>\n",
       "  <tbody>\n",
       "    <tr>\n",
       "      <th>0</th>\n",
       "      <td>14.1</td>\n",
       "      <td>1.186824</td>\n",
       "      <td>0.000000</td>\n",
       "      <td>0.000000e+00</td>\n",
       "      <td>0.000000</td>\n",
       "    </tr>\n",
       "    <tr>\n",
       "      <th>1</th>\n",
       "      <td>14.0</td>\n",
       "      <td>1.186824</td>\n",
       "      <td>-0.001587</td>\n",
       "      <td>-2.819614e-17</td>\n",
       "      <td>0.004410</td>\n",
       "    </tr>\n",
       "    <tr>\n",
       "      <th>2</th>\n",
       "      <td>14.1</td>\n",
       "      <td>1.186824</td>\n",
       "      <td>0.004545</td>\n",
       "      <td>8.074349e-17</td>\n",
       "      <td>0.001710</td>\n",
       "    </tr>\n",
       "    <tr>\n",
       "      <th>3</th>\n",
       "      <td>14.0</td>\n",
       "      <td>1.186824</td>\n",
       "      <td>-0.003448</td>\n",
       "      <td>-6.125368e-17</td>\n",
       "      <td>0.001645</td>\n",
       "    </tr>\n",
       "    <tr>\n",
       "      <th>4</th>\n",
       "      <td>14.0</td>\n",
       "      <td>1.186824</td>\n",
       "      <td>0.000000</td>\n",
       "      <td>0.000000e+00</td>\n",
       "      <td>0.005133</td>\n",
       "    </tr>\n",
       "  </tbody>\n",
       "</table>\n",
       "</div>"
      ],
      "text/plain": [
       "   speed   heading     accel     turn_rate  distance\n",
       "0   14.1  1.186824  0.000000  0.000000e+00  0.000000\n",
       "1   14.0  1.186824 -0.001587 -2.819614e-17  0.004410\n",
       "2   14.1  1.186824  0.004545  8.074349e-17  0.001710\n",
       "3   14.0  1.186824 -0.003448 -6.125368e-17  0.001645\n",
       "4   14.0  1.186824  0.000000  0.000000e+00  0.005133"
      ]
     },
     "execution_count": 5,
     "metadata": {},
     "output_type": "execute_result"
    }
   ],
   "source": [
    "features.head()"
   ]
  },
  {
   "cell_type": "code",
   "execution_count": 6,
   "id": "8b1fd5a3",
   "metadata": {},
   "outputs": [],
   "source": [
    "from sklearn.neighbors import LocalOutlierFactor\n",
    "\n",
    "lof = LocalOutlierFactor()\n",
    "y_pr = lof.fit_predict(features)"
   ]
  },
  {
   "cell_type": "code",
   "execution_count": 7,
   "id": "df443f38",
   "metadata": {},
   "outputs": [],
   "source": [
    "inlier_indices = y_pr == 1\n",
    "features_no_outliers = features[inlier_indices]"
   ]
  },
  {
   "cell_type": "code",
   "execution_count": 8,
   "id": "0256278f",
   "metadata": {},
   "outputs": [],
   "source": [
    "features_no_outliers = features_no_outliers.reset_index(drop=True)"
   ]
  },
  {
   "cell_type": "code",
   "execution_count": 9,
   "id": "0d4487fb",
   "metadata": {},
   "outputs": [
    {
     "data": {
      "text/html": [
       "<div>\n",
       "<style scoped>\n",
       "    .dataframe tbody tr th:only-of-type {\n",
       "        vertical-align: middle;\n",
       "    }\n",
       "\n",
       "    .dataframe tbody tr th {\n",
       "        vertical-align: top;\n",
       "    }\n",
       "\n",
       "    .dataframe thead th {\n",
       "        text-align: right;\n",
       "    }\n",
       "</style>\n",
       "<table border=\"1\" class=\"dataframe\">\n",
       "  <thead>\n",
       "    <tr style=\"text-align: right;\">\n",
       "      <th></th>\n",
       "      <th>speed</th>\n",
       "      <th>heading</th>\n",
       "      <th>accel</th>\n",
       "      <th>turn_rate</th>\n",
       "      <th>distance</th>\n",
       "    </tr>\n",
       "  </thead>\n",
       "  <tbody>\n",
       "    <tr>\n",
       "      <th>0</th>\n",
       "      <td>14.1</td>\n",
       "      <td>1.186824</td>\n",
       "      <td>0.004545</td>\n",
       "      <td>8.074349e-17</td>\n",
       "      <td>0.001710</td>\n",
       "    </tr>\n",
       "    <tr>\n",
       "      <th>1</th>\n",
       "      <td>14.1</td>\n",
       "      <td>1.186824</td>\n",
       "      <td>0.000327</td>\n",
       "      <td>5.805088e-18</td>\n",
       "      <td>0.021769</td>\n",
       "    </tr>\n",
       "    <tr>\n",
       "      <th>2</th>\n",
       "      <td>14.1</td>\n",
       "      <td>1.186824</td>\n",
       "      <td>0.000000</td>\n",
       "      <td>0.000000e+00</td>\n",
       "      <td>0.000922</td>\n",
       "    </tr>\n",
       "    <tr>\n",
       "      <th>3</th>\n",
       "      <td>14.1</td>\n",
       "      <td>1.186824</td>\n",
       "      <td>0.000000</td>\n",
       "      <td>0.000000e+00</td>\n",
       "      <td>0.000428</td>\n",
       "    </tr>\n",
       "    <tr>\n",
       "      <th>4</th>\n",
       "      <td>14.1</td>\n",
       "      <td>1.186824</td>\n",
       "      <td>0.000000</td>\n",
       "      <td>0.000000e+00</td>\n",
       "      <td>0.001717</td>\n",
       "    </tr>\n",
       "  </tbody>\n",
       "</table>\n",
       "</div>"
      ],
      "text/plain": [
       "   speed   heading     accel     turn_rate  distance\n",
       "0   14.1  1.186824  0.004545  8.074349e-17  0.001710\n",
       "1   14.1  1.186824  0.000327  5.805088e-18  0.021769\n",
       "2   14.1  1.186824  0.000000  0.000000e+00  0.000922\n",
       "3   14.1  1.186824  0.000000  0.000000e+00  0.000428\n",
       "4   14.1  1.186824  0.000000  0.000000e+00  0.001717"
      ]
     },
     "execution_count": 9,
     "metadata": {},
     "output_type": "execute_result"
    }
   ],
   "source": [
    "features_no_outliers.head()"
   ]
  },
  {
   "cell_type": "code",
   "execution_count": null,
   "id": "083c3fbb",
   "metadata": {},
   "outputs": [],
   "source": [
    "# Cluster trajectories\n",
    "kmeans = KMeans(n_clusters=5)\n",
    "features_no_outliers['cluster'] = kmeans.fit_predict(features_no_outliers)\n",
    "\n",
    "# Identify normal cluster\n",
    "cluster_list = features_no_outliers['cluster'].tolist()\n",
    "normal_cluster = max(set(cluster_list), key=cluster_list.count)"
   ]
  },
  {
   "cell_type": "code",
   "execution_count": 11,
   "id": "9322f223",
   "metadata": {},
   "outputs": [],
   "source": [
    "features_no_outliers['cluster'] = np.where(features_no_outliers['cluster'] == normal_cluster, 1, 0)"
   ]
  },
  {
   "cell_type": "code",
   "execution_count": 12,
   "id": "cdc844fb",
   "metadata": {},
   "outputs": [
    {
     "data": {
      "text/html": [
       "<div>\n",
       "<style scoped>\n",
       "    .dataframe tbody tr th:only-of-type {\n",
       "        vertical-align: middle;\n",
       "    }\n",
       "\n",
       "    .dataframe tbody tr th {\n",
       "        vertical-align: top;\n",
       "    }\n",
       "\n",
       "    .dataframe thead th {\n",
       "        text-align: right;\n",
       "    }\n",
       "</style>\n",
       "<table border=\"1\" class=\"dataframe\">\n",
       "  <thead>\n",
       "    <tr style=\"text-align: right;\">\n",
       "      <th></th>\n",
       "      <th>speed</th>\n",
       "      <th>heading</th>\n",
       "      <th>accel</th>\n",
       "      <th>turn_rate</th>\n",
       "      <th>distance</th>\n",
       "      <th>cluster</th>\n",
       "    </tr>\n",
       "  </thead>\n",
       "  <tbody>\n",
       "    <tr>\n",
       "      <th>0</th>\n",
       "      <td>14.1</td>\n",
       "      <td>1.186824</td>\n",
       "      <td>0.004545</td>\n",
       "      <td>8.074349e-17</td>\n",
       "      <td>0.001710</td>\n",
       "      <td>0</td>\n",
       "    </tr>\n",
       "    <tr>\n",
       "      <th>1</th>\n",
       "      <td>14.1</td>\n",
       "      <td>1.186824</td>\n",
       "      <td>0.000327</td>\n",
       "      <td>5.805088e-18</td>\n",
       "      <td>0.021769</td>\n",
       "      <td>0</td>\n",
       "    </tr>\n",
       "    <tr>\n",
       "      <th>2</th>\n",
       "      <td>14.1</td>\n",
       "      <td>1.186824</td>\n",
       "      <td>0.000000</td>\n",
       "      <td>0.000000e+00</td>\n",
       "      <td>0.000922</td>\n",
       "      <td>0</td>\n",
       "    </tr>\n",
       "    <tr>\n",
       "      <th>3</th>\n",
       "      <td>14.1</td>\n",
       "      <td>1.186824</td>\n",
       "      <td>0.000000</td>\n",
       "      <td>0.000000e+00</td>\n",
       "      <td>0.000428</td>\n",
       "      <td>0</td>\n",
       "    </tr>\n",
       "    <tr>\n",
       "      <th>4</th>\n",
       "      <td>14.1</td>\n",
       "      <td>1.186824</td>\n",
       "      <td>0.000000</td>\n",
       "      <td>0.000000e+00</td>\n",
       "      <td>0.001717</td>\n",
       "      <td>0</td>\n",
       "    </tr>\n",
       "  </tbody>\n",
       "</table>\n",
       "</div>"
      ],
      "text/plain": [
       "   speed   heading     accel     turn_rate  distance  cluster\n",
       "0   14.1  1.186824  0.004545  8.074349e-17  0.001710        0\n",
       "1   14.1  1.186824  0.000327  5.805088e-18  0.021769        0\n",
       "2   14.1  1.186824  0.000000  0.000000e+00  0.000922        0\n",
       "3   14.1  1.186824  0.000000  0.000000e+00  0.000428        0\n",
       "4   14.1  1.186824  0.000000  0.000000e+00  0.001717        0"
      ]
     },
     "execution_count": 12,
     "metadata": {},
     "output_type": "execute_result"
    }
   ],
   "source": [
    "features_no_outliers.head()"
   ]
  },
  {
   "cell_type": "code",
   "execution_count": 13,
   "id": "7225e5e6",
   "metadata": {},
   "outputs": [],
   "source": [
    "normal_features = features_no_outliers[['speed', 'heading', 'accel', 'turn_rate', 'distance']]"
   ]
  },
  {
   "cell_type": "code",
   "execution_count": 14,
   "id": "95480ca9",
   "metadata": {},
   "outputs": [],
   "source": [
    "X = normal_features.values\n",
    "y = features_no_outliers['cluster'].values"
   ]
  },
  {
   "cell_type": "code",
   "execution_count": 15,
   "id": "76e0d01a",
   "metadata": {},
   "outputs": [],
   "source": [
    "from sklearn.preprocessing import LabelEncoder\n",
    "y_labelencoder = LabelEncoder()\n",
    "Y = y_labelencoder.fit_transform(y)"
   ]
  },
  {
   "cell_type": "code",
   "execution_count": 16,
   "id": "6ac320e8",
   "metadata": {},
   "outputs": [],
   "source": [
    "from sklearn.model_selection import train_test_split\n",
    "X_train, X_test, Y_train, Y_test = train_test_split(X, Y, test_size=0.2, random_state=42)"
   ]
  },
  {
   "cell_type": "code",
   "execution_count": 17,
   "id": "271daba4",
   "metadata": {},
   "outputs": [],
   "source": [
    "import tensorflow as tf\n",
    "# Perform one-hot encoding on the labels\n",
    "NUM_CLASSES = len(np.unique(Y_train))\n",
    "y_train = tf.one_hot(Y_train, NUM_CLASSES)\n",
    "y_test = tf.one_hot(Y_test, NUM_CLASSES)"
   ]
  },
  {
   "cell_type": "code",
   "execution_count": 18,
   "id": "78694bba",
   "metadata": {},
   "outputs": [],
   "source": [
    "batch_size = 32\n",
    "\n",
    "# Reshape the input data to match the expected shape for Conv1D\n",
    "x_train = X_train.reshape(X_train.shape[0], X_train.shape[1], 1)\n",
    "x_test = X_test.reshape(X_test.shape[0], X_test.shape[1], 1)"
   ]
  },
  {
   "cell_type": "code",
   "execution_count": 19,
   "id": "70cd7e6b",
   "metadata": {},
   "outputs": [
    {
     "data": {
      "text/plain": [
       "(4123040, 5, 1)"
      ]
     },
     "execution_count": 19,
     "metadata": {},
     "output_type": "execute_result"
    }
   ],
   "source": [
    "x_train.shape"
   ]
  },
  {
   "cell_type": "code",
   "execution_count": 20,
   "id": "7559eec1",
   "metadata": {},
   "outputs": [
    {
     "name": "stdout",
     "output_type": "stream",
     "text": [
      "Model: \"sequential\"\n",
      "_________________________________________________________________\n",
      " Layer (type)                Output Shape              Param #   \n",
      "=================================================================\n",
      " conv1d (Conv1D)             (None, 3, 32)             128       \n",
      "                                                                 \n",
      " batch_normalization (BatchN  (None, 3, 32)            128       \n",
      " ormalization)                                                   \n",
      "                                                                 \n",
      " max_pooling1d (MaxPooling1D  (None, 3, 32)            0         \n",
      " )                                                               \n",
      "                                                                 \n",
      " dropout (Dropout)           (None, 3, 32)             0         \n",
      "                                                                 \n",
      " conv1d_1 (Conv1D)           (None, 1, 64)             6208      \n",
      "                                                                 \n",
      " batch_normalization_1 (Batc  (None, 1, 64)            256       \n",
      " hNormalization)                                                 \n",
      "                                                                 \n",
      " max_pooling1d_1 (MaxPooling  (None, 1, 64)            0         \n",
      " 1D)                                                             \n",
      "                                                                 \n",
      " dropout_1 (Dropout)         (None, 1, 64)             0         \n",
      "                                                                 \n",
      " flatten (Flatten)           (None, 64)                0         \n",
      "                                                                 \n",
      " dense (Dense)               (None, 64)                4160      \n",
      "                                                                 \n",
      " dropout_2 (Dropout)         (None, 64)                0         \n",
      "                                                                 \n",
      " dense_1 (Dense)             (None, 32)                2080      \n",
      "                                                                 \n",
      " dropout_3 (Dropout)         (None, 32)                0         \n",
      "                                                                 \n",
      " dense_2 (Dense)             (None, 2)                 66        \n",
      "                                                                 \n",
      "=================================================================\n",
      "Total params: 13,026\n",
      "Trainable params: 12,834\n",
      "Non-trainable params: 192\n",
      "_________________________________________________________________\n",
      "Epoch 1/5\n",
      "128845/128845 [==============================] - 474s 4ms/step - loss: 0.0623 - accuracy: 0.9756 - val_loss: 0.0893 - val_accuracy: 0.9663\n",
      "Epoch 2/5\n",
      "128845/128845 [==============================] - 461s 4ms/step - loss: 0.0430 - accuracy: 0.9834 - val_loss: 0.0514 - val_accuracy: 0.9773\n",
      "Epoch 3/5\n",
      "128845/128845 [==============================] - 469s 4ms/step - loss: 0.0399 - accuracy: 0.9847 - val_loss: 0.0501 - val_accuracy: 0.9905\n",
      "Epoch 4/5\n",
      "128845/128845 [==============================] - 458s 4ms/step - loss: 0.0378 - accuracy: 0.9855 - val_loss: 0.0375 - val_accuracy: 0.9898\n",
      "Epoch 5/5\n",
      "128845/128845 [==============================] - 449s 3ms/step - loss: 0.0372 - accuracy: 0.9859 - val_loss: 0.0268 - val_accuracy: 0.9861\n"
     ]
    }
   ],
   "source": [
    "import numpy as np\n",
    "from tensorflow.keras.models import Sequential\n",
    "from tensorflow.keras.layers import Conv1D, MaxPooling1D, Flatten, Dense, BatchNormalization, Dropout\n",
    "from tensorflow.keras.optimizers import Adam\n",
    "\n",
    "# Create the Sequential model\n",
    "model = Sequential()\n",
    "\n",
    "# First Conv1D layer with 32 filters, kernel size of 3, and 'relu' activation\n",
    "model.add(Conv1D(32, kernel_size=3, activation='relu', input_shape=(x_train.shape[1], x_train.shape[2])))\n",
    "\n",
    "# BatchNormalization\n",
    "model.add(BatchNormalization())\n",
    "\n",
    "# MaxPooling\n",
    "model.add(MaxPooling1D(pool_size=1))\n",
    "\n",
    "# Dropout\n",
    "model.add(Dropout(0.25))\n",
    "\n",
    "# Second Conv1D layer with 64 filters and a kernel size of 3\n",
    "model.add(Conv1D(64, kernel_size=3, activation='relu'))\n",
    "\n",
    "# BatchNormalization\n",
    "model.add(BatchNormalization())\n",
    "\n",
    "# MaxPooling\n",
    "model.add(MaxPooling1D(pool_size=1))\n",
    "\n",
    "# Dropout\n",
    "model.add(Dropout(0.25))\n",
    "\n",
    "# Flatten layer to convert the output to a 1D vector\n",
    "model.add(Flatten())\n",
    "\n",
    "# Fully connected layers\n",
    "model.add(Dense(64, activation='relu'))\n",
    "model.add(Dropout(0.2))\n",
    "\n",
    "model.add(Dense(32, activation='relu'))\n",
    "model.add(Dropout(0.2))\n",
    "\n",
    "# Output layer with appropriate activation (e.g., sigmoid for binary classification)\n",
    "model.add(Dense(2, activation='softmax'))\n",
    "\n",
    "# Compile the model\n",
    "model.compile(loss='binary_crossentropy', optimizer=Adam(learning_rate=0.001), metrics=['accuracy'])\n",
    "\n",
    "# Print the model summary to check the shapes\n",
    "model.summary()\n",
    "\n",
    "epochs = 5\n",
    "\n",
    "# Train the model\n",
    "history = model.fit(x_train, y_train, batch_size=batch_size, epochs=epochs, validation_data=(x_test, y_test))"
   ]
  },
  {
   "cell_type": "code",
   "execution_count": 21,
   "id": "9e6ea945",
   "metadata": {},
   "outputs": [
    {
     "data": {
      "image/png": "[encoded data removed]",
      "text/plain": [
       "<Figure size 1200x400 with 2 Axes>"
      ]
     },
     "metadata": {},
     "output_type": "display_data"
    }
   ],
   "source": [
    "import matplotlib.pyplot as plt\n",
    "\n",
    "# Plot training & validation accuracy values\n",
    "plt.figure(figsize=(12, 4))\n",
    "plt.subplot(1, 2, 1)\n",
    "plt.plot(history.history['accuracy'])\n",
    "plt.plot(history.history['val_accuracy'])\n",
    "plt.title('Model accuracy')\n",
    "plt.xlabel('Epoch')\n",
    "plt.ylabel('Accuracy')\n",
    "plt.legend(['Train', 'Validation'], loc='upper left')\n",
    "\n",
    "# Plot training & validation loss values\n",
    "plt.subplot(1, 2, 2)\n",
    "plt.plot(history.history['loss'])\n",
    "plt.plot(history.history['val_loss'])\n",
    "plt.title('Model loss')\n",
    "plt.xlabel('Epoch')\n",
    "plt.ylabel('Loss')\n",
    "plt.legend(['Train', 'Validation'], loc='upper left')\n",
    "\n",
    "plt.tight_layout()\n",
    "plt.show()"
   ]
  }
 ],
 "metadata": {
  "kernelspec": {
   "display_name": "Python 3 (ipykernel)",
   "language": "python",
   "name": "python3"
  },
  "language_info": {
   "codemirror_mode": {
    "name": "ipython",
    "version": 3
   },
   "file_extension": ".py",
   "mimetype": "text/x-python",
   "name": "python",
   "nbconvert_exporter": "python",
   "pygments_lexer": "ipython3",
   "version": "3.10.9"
  }
 },
 "nbformat": 4,
 "nbformat_minor": 5
}
