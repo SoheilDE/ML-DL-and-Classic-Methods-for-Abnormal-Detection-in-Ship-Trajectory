{
 "cells": [
  {
   "cell_type": "code",
   "execution_count": 1,
   "id": "e49b042b",
   "metadata": {},
   "outputs": [],
   "source": [
    "import pandas as pd\n",
    "import numpy as np\n",
    "from sklearn.cluster import KMeans"
   ]
  },
  {
   "cell_type": "code",
   "execution_count": 2,
   "id": "352e2b19",
   "metadata": {},
   "outputs": [],
   "source": [
    "df = pd.read_csv('combined_traj_data.csv')"
   ]
  },
  {
   "cell_type": "code",
   "execution_count": 3,
   "id": "0965599b",
   "metadata": {},
   "outputs": [],
   "source": [
    "# Feature engineering\n",
    "df['speed'] = np.sqrt(df['vx']**2 + df['vy']**2)\n",
    "df['heading'] = np.arctan2(df['vy'], df['vx'])\n",
    "df['accel'] = df['speed'].diff() / df['t'].diff()\n",
    "df['turn_rate'] = df['heading'].diff() / df['t'].diff()\n",
    "df['distance'] = np.sqrt(df['x'].diff()**2 + df['y'].diff()**2)\n",
    "\n",
    "features = df[['speed', 'heading', 'accel', 'turn_rate', 'distance']]"
   ]
  },
  {
   "cell_type": "code",
   "execution_count": null,
   "id": "5673ede5",
   "metadata": {},
   "outputs": [],
   "source": [
    "features['accel'].fillna(0, inplace=True)\n",
    "features['turn_rate'].fillna(0, inplace=True)\n",
    "features['distance'].fillna(0, inplace=True)"
   ]
  },
  {
   "cell_type": "code",
   "execution_count": 5,
   "id": "6297d1c2",
   "metadata": {},
   "outputs": [],
   "source": [
    "from sklearn.neighbors import LocalOutlierFactor\n",
    "\n",
    "lof = LocalOutlierFactor()\n",
    "y_pr = lof.fit_predict(features)"
   ]
  },
  {
   "cell_type": "code",
   "execution_count": 6,
   "id": "6c3b8f39",
   "metadata": {},
   "outputs": [],
   "source": [
    "inlier_indices = y_pr == 1\n",
    "features_no_outliers = df[inlier_indices]\n",
    "features_no_outliers = features_no_outliers.reset_index(drop=True)"
   ]
  },
  {
   "cell_type": "code",
   "execution_count": null,
   "id": "8f8645e1",
   "metadata": {},
   "outputs": [],
   "source": [
    "kmeans = KMeans(n_clusters=5)\n",
    "features_no_outliers['cluster_kmeans'] = kmeans.fit_predict(features_no_outliers)\n",
    "cluster_list = features_no_outliers['cluster_kmeans'].tolist()\n",
    "normal_cluster = max(set(cluster_list), key=cluster_list.count)"
   ]
  },
  {
   "cell_type": "code",
   "execution_count": null,
   "id": "32a9cb19",
   "metadata": {},
   "outputs": [],
   "source": [
    "features_no_outliers['cluster_kmeans'] = np.where(features_no_outliers['cluster_kmeans'] == normal_cluster, 1, 0)"
   ]
  },
  {
   "cell_type": "code",
   "execution_count": null,
   "id": "631903d6",
   "metadata": {},
   "outputs": [],
   "source": [
    "normal_features = features_no_outliers[['speed', 'heading', 'accel', 'turn_rate', 'distance']]"
   ]
  },
  {
   "cell_type": "code",
   "execution_count": null,
   "id": "2a1896ac",
   "metadata": {},
   "outputs": [],
   "source": [
    "from sklearn.model_selection import train_test_split\n",
    "X_train, X_test, y_train, y_test = train_test_split(normal_features, features_no_outliers['cluster_kmeans'], test_size=0.33, random_state=42)"
   ]
  },
  {
   "cell_type": "code",
   "execution_count": null,
   "id": "72a8b3ca",
   "metadata": {},
   "outputs": [],
   "source": [
    "from xgboost import XGBClassifier\n",
    "\n",
    "model = XGBClassifier(n_estimators=50,learning_rate=0.02,max_depth=5)\n",
    "model.fit(X_train, y_train)"
   ]
  },
  {
   "cell_type": "code",
   "execution_count": null,
   "id": "aabd879f",
   "metadata": {},
   "outputs": [],
   "source": [
    "from sklearn.metrics import accuracy_score\n",
    "# Evaluate model\n",
    "y_pred = model.predict(X_test)\n",
    "accuracy = accuracy_score(y_test, y_pred)\n",
    "print(f\"Accuracy: {accuracy}\")"
   ]
  },
  {
   "cell_type": "code",
   "execution_count": null,
   "id": "ec89d0c5",
   "metadata": {},
   "outputs": [],
   "source": [
    "import numpy as np\n",
    "\n",
    "# Generate 15 normal trajectories\n",
    "num_traj = 15\n",
    "traj_len = 50\n",
    "normal_trajectories = []\n",
    "for i in range(num_traj):\n",
    "    x = np.random.uniform(low=-5.0, high=5.0, size=traj_len)\n",
    "    y = np.random.uniform(low=40.0, high=60.0, size=traj_len)\n",
    "    vx = np.random.normal(loc=10, scale=2, size=traj_len)\n",
    "    vy = np.random.normal(loc=10, scale=2, size=traj_len)\n",
    "    t = np.arange(traj_len)\n",
    "    traj_num = np.full(traj_len, i+1)\n",
    "    trajectory = np.column_stack((x, y, vx, vy, t, traj_num)) \n",
    "    normal_trajectories.append(trajectory)\n",
    "\n",
    "# Generate location-based anomalies\n",
    "num_loc_anom = 7\n",
    "loc_anom_traj = []\n",
    "for i in range(num_loc_anom):\n",
    "    t = np.random.randint(10, 40)\n",
    "    x = np.random.uniform(low=10, high=15)\n",
    "    y = np.random.uniform(low=10, high=15)\n",
    "    anomaly_traj = normal_trajectories[i].copy()\n",
    "    anomaly_traj[t,0] = x\n",
    "    anomaly_traj[t,1] = y\n",
    "    loc_anom_traj.append(anomaly_traj)\n",
    "\n",
    "# Generate velocity-based anomalies\n",
    "num_vel_anom = 8\n",
    "vel_anom_traj = []\n",
    "for i in range(num_vel_anom):\n",
    "    t = np.random.randint(10, 40)\n",
    "    vx = np.random.normal(loc=40, scale=5)\n",
    "    vy = np.random.normal(loc=40, scale=5)\n",
    "    anomaly_traj = normal_trajectories[i+num_loc_anom].copy()\n",
    "    anomaly_traj[t,2] = vx\n",
    "    anomaly_traj[t,3] = vy\n",
    "    vel_anom_traj.append(anomaly_traj)\n",
    "\n",
    "abnormal_trajectories = loc_anom_traj + vel_anom_traj"
   ]
  },
  {
   "cell_type": "code",
   "execution_count": null,
   "id": "5a2f2488",
   "metadata": {},
   "outputs": [],
   "source": [
    "import pandas as pd\n",
    "\n",
    "# List of column names\n",
    "cols = ['x', 'y', 'vx', 'vy', 't', 'traj_number']\n",
    "\n",
    "# Create empty dataframe\n",
    "df = pd.DataFrame(columns=cols)\n",
    "\n",
    "# Loop through trajectories and append to dataframe\n",
    "for traj in abnormal_trajectories:\n",
    "    df_temp = pd.DataFrame(traj, columns=cols)\n",
    "    df = pd.concat([df, df_temp])\n"
   ]
  },
  {
   "cell_type": "code",
   "execution_count": null,
   "id": "f8b7faf3",
   "metadata": {},
   "outputs": [],
   "source": [
    "df.reset_index(drop=True)"
   ]
  },
  {
   "cell_type": "code",
   "execution_count": null,
   "id": "bd7ef09a",
   "metadata": {},
   "outputs": [],
   "source": [
    "# Feature engineering\n",
    "df['speed'] = np.sqrt(df['vx']**2 + df['vy']**2)\n",
    "df['heading'] = np.arctan2(df['vy'], df['vx'])\n",
    "df['accel'] = df['speed'].diff() / df['t'].diff()\n",
    "df['turn_rate'] = df['heading'].diff() / df['t'].diff()\n",
    "df['distance'] = np.sqrt(df['x'].diff()**2 + df['y'].diff()**2)"
   ]
  },
  {
   "cell_type": "code",
   "execution_count": null,
   "id": "7c67f828",
   "metadata": {},
   "outputs": [],
   "source": [
    "df['accel'].fillna(0, inplace=True)\n",
    "df['turn_rate'].fillna(0, inplace=True)\n",
    "df['distance'].fillna(0, inplace=True)"
   ]
  },
  {
   "cell_type": "code",
   "execution_count": null,
   "id": "21924b47",
   "metadata": {},
   "outputs": [],
   "source": [
    "features.reset_index(drop=True)"
   ]
  },
  {
   "cell_type": "code",
   "execution_count": null,
   "id": "03440651",
   "metadata": {},
   "outputs": [],
   "source": [
    "df['cluster_kmeans'] = kmeans.predict(df)"
   ]
  },
  {
   "cell_type": "code",
   "execution_count": null,
   "id": "35584511",
   "metadata": {},
   "outputs": [],
   "source": [
    "df['cluster_kmeans'] = np.where(df['cluster_kmeans'] == normal_cluster, 1, 0)"
   ]
  },
  {
   "cell_type": "code",
   "execution_count": null,
   "id": "536a18af",
   "metadata": {},
   "outputs": [],
   "source": [
    "df.head()"
   ]
  },
  {
   "cell_type": "code",
   "execution_count": null,
   "id": "96883750",
   "metadata": {},
   "outputs": [],
   "source": [
    "X_val =  df[['speed', 'heading', 'accel', 'turn_rate', 'distance']]"
   ]
  },
  {
   "cell_type": "code",
   "execution_count": null,
   "id": "b640106e",
   "metadata": {},
   "outputs": [],
   "source": [
    "Y_val = df['cluster_kmeans']"
   ]
  },
  {
   "cell_type": "code",
   "execution_count": null,
   "id": "e7cd0700",
   "metadata": {},
   "outputs": [],
   "source": [
    "from sklearn.metrics import accuracy_score\n",
    "# Evaluate model\n",
    "y_pred_val = model.predict(X_val)\n",
    "accuracy = accuracy_score(Y_val, y_pred_val)\n",
    "print(f\"Accuracy: {accuracy}\")"
   ]
  }
 ],
 "metadata": {
  "kernelspec": {
   "display_name": "Python 3 (ipykernel)",
   "language": "python",
   "name": "python3"
  },
  "language_info": {
   "codemirror_mode": {
    "name": "ipython",
    "version": 3
   },
   "file_extension": ".py",
   "mimetype": "text/x-python",
   "name": "python",
   "nbconvert_exporter": "python",
   "pygments_lexer": "ipython3",
   "version": "3.10.9"
  }
 },
 "nbformat": 4,
 "nbformat_minor": 5
}
